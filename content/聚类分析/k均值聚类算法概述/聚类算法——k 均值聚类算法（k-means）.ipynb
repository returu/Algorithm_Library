{
 "cells": [
  {
   "cell_type": "markdown",
   "id": "4a7258e8",
   "metadata": {},
   "source": [
    "### 导入所需库及配置项"
   ]
  },
  {
   "cell_type": "code",
   "execution_count": 1,
   "id": "d737d80a",
   "metadata": {},
   "outputs": [],
   "source": [
    "import numpy as np\n",
    "import matplotlib.pyplot as plt\n",
    "\n",
    "# 显示中文\n",
    "plt.rcParams['font.family'] = 'SimHei'\n",
    "plt.rcParams['axes.unicode_minus'] = False"
   ]
  },
  {
   "cell_type": "markdown",
   "id": "d546c4d3",
   "metadata": {},
   "source": [
    "### 读取示例数据集并可视化"
   ]
  },
  {
   "cell_type": "code",
   "execution_count": 2,
   "id": "f90ce794",
   "metadata": {},
   "outputs": [
    {
     "data": {
      "text/plain": [
       "array([[ 1.658985,  4.285136],\n",
       "       [-2.123337,  2.943366],\n",
       "       [ 0.704199, -0.479481],\n",
       "       [-0.39237 , -3.963704],\n",
       "       [ 0.972564,  2.924086]])"
      ]
     },
     "execution_count": 2,
     "metadata": {},
     "output_type": "execute_result"
    }
   ],
   "source": [
    "# 读取 txt 文件\n",
    "dataSet = np.loadtxt('testData.txt' , delimiter='\\t')\n",
    "dataSet[:5]"
   ]
  },
  {
   "cell_type": "code",
   "execution_count": 3,
   "id": "db27e292",
   "metadata": {},
   "outputs": [
    {
     "data": {
      "text/plain": [
       "(80, 2)"
      ]
     },
     "execution_count": 3,
     "metadata": {},
     "output_type": "execute_result"
    }
   ],
   "source": [
    "dataSet.shape"
   ]
  },
  {
   "cell_type": "code",
   "execution_count": 4,
   "id": "596de6a4",
   "metadata": {},
   "outputs": [
    {
     "data": {
      "text/plain": [
       "<matplotlib.collections.PathCollection at 0x230dcb2f910>"
      ]
     },
     "execution_count": 4,
     "metadata": {},
     "output_type": "execute_result"
    },
    {
     "data": {
      "image/png": "[encoded data removed]",
      "text/plain": [
       "<Figure size 640x480 with 1 Axes>"
      ]
     },
     "metadata": {},
     "output_type": "display_data"
    }
   ],
   "source": [
    "# 绘图\n",
    "plt.scatter(dataSet[:,0] , dataSet[:,1] , s=20 )"
   ]
  },
  {
   "cell_type": "markdown",
   "id": "f2c8f2d4",
   "metadata": {},
   "source": [
    "### 定义功能函数"
   ]
  },
  {
   "cell_type": "code",
   "execution_count": 5,
   "id": "f47e206d",
   "metadata": {},
   "outputs": [],
   "source": [
    "# 定义计算两个向量的欧式距离的函数\n",
    "def euclidean_distance(vecA, vecB):\n",
    "    return np.sqrt(sum(pow(vecA - vecB, 2)))"
   ]
  },
  {
   "cell_type": "code",
   "execution_count": 6,
   "id": "bc44cae9",
   "metadata": {},
   "outputs": [],
   "source": [
    "# 定义质心初始化函数\n",
    "def centroids_init(dataSet , k):\n",
    "    \"\"\"\n",
    "    质心初始化函数\n",
    "    Parameters，参数说明:\n",
    "    dataSet：数据集\n",
    "    k:簇的数目\n",
    "    输出：\n",
    "    centroids：簇的质心矩阵\n",
    "    \"\"\"\n",
    "    # 数据的特征维度数目\n",
    "    n = dataSet.shape[1]\n",
    "    # 创建一个全零的数组\n",
    "    centroids = np.zeros((k,n))\n",
    "    for j in range(n):\n",
    "        # 计算每个特征维度的的最小值\n",
    "        minJ = min(dataSet[:,j])\n",
    "        # 每个特征维度最大值 - 最小值\n",
    "        rangeJ = max(dataSet[:,j]) - min(dataSet[:,j])\n",
    "        # 在整个数据集的边界范围内，创建随机质心\n",
    "        centroids[:,j] = minJ + rangeJ*np.random.rand(k,)\n",
    "    return centroids"
   ]
  },
  {
   "cell_type": "markdown",
   "id": "c1a487c9",
   "metadata": {},
   "source": [
    "### K-means算法实现"
   ]
  },
  {
   "cell_type": "markdown",
   "id": "05bb3dc6",
   "metadata": {},
   "source": [
    "#### 按照“计算质心-分配簇-重新计算”的流程反复迭代，直到所有数据点的簇分配结果不在改变为止"
   ]
  },
  {
   "cell_type": "code",
   "execution_count": 7,
   "id": "6520f0c6",
   "metadata": {},
   "outputs": [],
   "source": [
    "def kMeans(dataSet, k, calculatedists=euclidean_distance, createCent=centroids_init):\n",
    "    \"\"\"\n",
    "    输入：\n",
    "    dataSet：数据集\n",
    "    k:簇的数目\n",
    "    calculatedists:计算距离的函数\n",
    "    createCent:创建初始簇质心的函数\n",
    "    输出：\n",
    "    \"\"\"\n",
    "    m = dataSet.shape[0]\n",
    "    # 存储每个点的簇分配结果（第一列）以及与簇质心间的距离（第二列）\n",
    "    clusterAssment = np.zeros((m,2))\n",
    "    # 生成初始簇质心\n",
    "    centroids = createCent(dataSet,k)\n",
    "    \n",
    "    clusterChange = True\n",
    "    while clusterChange:\n",
    "        clusterChange = False\n",
    "        for i in range(m):\n",
    "            minDist = np.inf\n",
    "            minIndex = -1\n",
    "            for j in range(k):\n",
    "                distJI = calculatedists(centroids[j,:] , dataSet[i,:])\n",
    "                if distJI < minDist:\n",
    "                    minDist = distJI\n",
    "                    minIndex = j\n",
    "            if clusterAssment[i,0] != minIndex:clusterChange = True\n",
    "            clusterAssment[i,:] = minIndex , minDist**2\n",
    "        print(centroids)\n",
    "        for cent in range(k):\n",
    "            # 获取每个簇包含的所有点\n",
    "            ptsInClust = dataSet[clusterAssment[:,0] == cent]\n",
    "            # 计算每个簇的数据点的平均值，并将其作为新的簇中心点\n",
    "            centroids[cent,:] = np.mean(ptsInClust, axis=0)\n",
    "    return centroids, clusterAssment"
   ]
  },
  {
   "cell_type": "markdown",
   "id": "d9ea1bd3",
   "metadata": {},
   "source": [
    "### 可视化聚类结果"
   ]
  },
  {
   "cell_type": "code",
   "execution_count": 8,
   "id": "7668db74",
   "metadata": {},
   "outputs": [
    {
     "name": "stdout",
     "output_type": "stream",
     "text": [
      "[[ 2.1805388  -2.64507008]\n",
      " [ 1.71299912  3.87954526]\n",
      " [ 0.83111674 -1.77662496]\n",
      " [-1.61448504 -3.51645189]]\n",
      "[[ 3.05021133 -2.82492178]\n",
      " [ 0.25122803  3.04222063]\n",
      " [-0.508066   -0.99886033]\n",
      " [-3.3912061  -2.7340531 ]]\n",
      "[[ 3.11052774 -2.61694289]\n",
      " [ 0.14460654  3.09399208]\n",
      " [-1.0968974  -1.0857348 ]\n",
      " [-3.53973889 -2.89384326]]\n",
      "[[ 3.11052774 -2.61694289]\n",
      " [ 0.23721978  3.13048439]\n",
      " [-1.4456595  -0.6080675 ]\n",
      " [-3.53973889 -2.89384326]]\n",
      "[[ 2.97753205 -2.6512067 ]\n",
      " [ 0.23721978  3.13048439]\n",
      " [-2.18305025  0.9043795 ]\n",
      " [-3.38237045 -2.9473363 ]]\n",
      "[[ 2.8692781  -2.54779119]\n",
      " [ 1.73775604  3.222066  ]\n",
      " [-2.84017553  2.6309902 ]\n",
      " [-3.38237045 -2.9473363 ]]\n",
      "[[ 2.80293085 -2.7315146 ]\n",
      " [ 2.6265299   3.10868015]\n",
      " [-2.46154315  2.78737555]\n",
      " [-3.38237045 -2.9473363 ]]\n"
     ]
    }
   ],
   "source": [
    "centroids, clusterAssment = kMeans(dataSet, 4)"
   ]
  },
  {
   "cell_type": "code",
   "execution_count": 9,
   "id": "2ac0ad24",
   "metadata": {},
   "outputs": [
    {
     "data": {
      "text/plain": [
       "array([[ 2.80293085, -2.7315146 ],\n",
       "       [ 2.6265299 ,  3.10868015],\n",
       "       [-2.46154315,  2.78737555],\n",
       "       [-3.38237045, -2.9473363 ]])"
      ]
     },
     "execution_count": 9,
     "metadata": {},
     "output_type": "execute_result"
    }
   ],
   "source": [
    "centroids"
   ]
  },
  {
   "cell_type": "code",
   "execution_count": 10,
   "id": "ea41e926",
   "metadata": {
    "scrolled": true
   },
   "outputs": [
    {
     "data": {
      "text/plain": [
       "array([[1.00000000e+00, 2.32019150e+00],\n",
       "       [2.00000000e+00, 1.38716420e-01],\n",
       "       [0.00000000e+00, 9.47633071e+00],\n",
       "       [3.00000000e+00, 9.97310599e+00],\n",
       "       [1.00000000e+00, 2.76967820e+00],\n",
       "       [1.00000000e+00, 4.55502856e-01],\n",
       "       [1.00000000e+00, 9.32523506e-02],\n",
       "       [2.00000000e+00, 9.13705455e-01],\n",
       "       [0.00000000e+00, 1.25766593e+00],\n",
       "       [3.00000000e+00, 4.09563895e-01],\n",
       "       [1.00000000e+00, 9.46987842e-01],\n",
       "       [2.00000000e+00, 2.63836399e+00],\n",
       "       [0.00000000e+00, 5.20371222e-01],\n",
       "       [3.00000000e+00, 1.86796790e+00],\n",
       "       [2.00000000e+00, 2.80101213e+00],\n",
       "       [0.00000000e+00, 5.85909807e+00],\n",
       "       [2.00000000e+00, 1.39004893e+00],\n",
       "       [3.00000000e+00, 1.50646425e+00],\n",
       "       [1.00000000e+00, 2.29348924e+00],\n",
       "       [2.00000000e+00, 6.45967483e-01],\n",
       "       [0.00000000e+00, 1.74010499e+00],\n",
       "       [0.00000000e+00, 6.63839104e+00],\n",
       "       [3.00000000e+00, 3.77769471e-01],\n",
       "       [1.00000000e+00, 2.51695402e+00],\n",
       "       [1.00000000e+00, 2.39726914e+00],\n",
       "       [2.00000000e+00, 3.10242360e+00],\n",
       "       [0.00000000e+00, 4.11084375e-01],\n",
       "       [1.00000000e+00, 1.38706133e-01],\n",
       "       [2.00000000e+00, 5.10240996e-01],\n",
       "       [0.00000000e+00, 1.05700176e+00],\n",
       "       [3.00000000e+00, 2.90181828e-02],\n",
       "       [1.00000000e+00, 1.31601105e+00],\n",
       "       [2.00000000e+00, 9.08203769e-01],\n",
       "       [0.00000000e+00, 5.02608557e-01],\n",
       "       [3.00000000e+00, 4.57942717e-01],\n",
       "       [1.00000000e+00, 2.13786618e-01],\n",
       "       [2.00000000e+00, 4.05632356e+00],\n",
       "       [0.00000000e+00, 5.14171888e+00],\n",
       "       [3.00000000e+00, 5.56237495e-01],\n",
       "       [1.00000000e+00, 4.76142736e-01],\n",
       "       [2.00000000e+00, 1.54414110e+00],\n",
       "       [0.00000000e+00, 6.10930460e+00],\n",
       "       [3.00000000e+00, 9.47660177e-01],\n",
       "       [3.00000000e+00, 4.74890795e-01],\n",
       "       [1.00000000e+00, 4.87745774e+00],\n",
       "       [2.00000000e+00, 3.12703929e+00],\n",
       "       [0.00000000e+00, 6.45118831e-03],\n",
       "       [3.00000000e+00, 3.01415411e-01],\n",
       "       [0.00000000e+00, 8.41875177e-01],\n",
       "       [3.00000000e+00, 2.06159470e+00],\n",
       "       [1.00000000e+00, 6.39227291e+00],\n",
       "       [3.00000000e+00, 4.16140951e+00],\n",
       "       [1.00000000e+00, 8.84955695e-01],\n",
       "       [2.00000000e+00, 7.98870968e-02],\n",
       "       [0.00000000e+00, 5.23673430e-01],\n",
       "       [3.00000000e+00, 3.24171404e+00],\n",
       "       [1.00000000e+00, 5.46768776e+00],\n",
       "       [2.00000000e+00, 5.73153563e+00],\n",
       "       [0.00000000e+00, 3.12040332e-01],\n",
       "       [0.00000000e+00, 1.95213538e+00],\n",
       "       [3.00000000e+00, 1.54154401e+00],\n",
       "       [1.00000000e+00, 1.26364010e+00],\n",
       "       [2.00000000e+00, 1.33108375e+00],\n",
       "       [0.00000000e+00, 3.02422139e-01],\n",
       "       [3.00000000e+00, 5.58860689e-01],\n",
       "       [1.00000000e+00, 7.06014703e-02],\n",
       "       [2.00000000e+00, 2.38032454e-02],\n",
       "       [2.00000000e+00, 2.59901305e-01],\n",
       "       [0.00000000e+00, 3.74491207e+00],\n",
       "       [3.00000000e+00, 9.83287604e-01],\n",
       "       [3.00000000e+00, 2.32143993e+00],\n",
       "       [1.00000000e+00, 9.52516316e-02],\n",
       "       [2.00000000e+00, 6.25129762e-01],\n",
       "       [2.00000000e+00, 2.01200372e-01],\n",
       "       [0.00000000e+00, 3.51030769e+00],\n",
       "       [3.00000000e+00, 3.93986735e-01],\n",
       "       [1.00000000e+00, 1.32864695e+00],\n",
       "       [0.00000000e+00, 1.07872914e+00],\n",
       "       [3.00000000e+00, 4.35369355e-01],\n",
       "       [2.00000000e+00, 1.96212809e-02]])"
      ]
     },
     "execution_count": 10,
     "metadata": {},
     "output_type": "execute_result"
    }
   ],
   "source": [
    "clusterAssment"
   ]
  },
  {
   "cell_type": "code",
   "execution_count": 11,
   "id": "e2164a98",
   "metadata": {},
   "outputs": [
    {
     "data": {
      "image/png": "[encoded data removed]",
      "text/plain": [
       "<Figure size 640x480 with 1 Axes>"
      ]
     },
     "metadata": {},
     "output_type": "display_data"
    }
   ],
   "source": [
    "color = [\"orange\" , \"green\" , \"blue\" , \"purple\"]\n",
    "m = dataSet.shape[0]\n",
    "\n",
    "# 根据簇类别分别可视化原数据点\n",
    "for i in range(m):\n",
    "    if clusterAssment[i,0] == 0:\n",
    "        plt.scatter(dataSet[i,0] , dataSet[i,1] , marker=\"+\" , s=50 , color=color[0])\n",
    "    if clusterAssment[i,0] == 1:\n",
    "        plt.scatter(dataSet[i,0] , dataSet[i,1] , marker=\"+\" , s=50 , color=color[1])\n",
    "    if clusterAssment[i,0] == 2:\n",
    "        plt.scatter(dataSet[i,0] , dataSet[i,1] , marker=\"+\" , s=50 , color=color[2])\n",
    "    if clusterAssment[i,0] == 3:\n",
    "        plt.scatter(dataSet[i,0] , dataSet[i,1] , marker=\"+\" , s=50 , color=color[3])\n",
    "\n",
    "# 可视化最终簇质心点\n",
    "for i in range(4):\n",
    "    plt.scatter(centroids[i,0] , centroids[i,1] , marker=\"o\" , s=50 , color=\"red\")"
   ]
  },
  {
   "cell_type": "code",
   "execution_count": null,
   "id": "a18372c0",
   "metadata": {},
   "outputs": [],
   "source": []
  },
  {
   "cell_type": "code",
   "execution_count": null,
   "id": "7acf7a9e",
   "metadata": {},
   "outputs": [],
   "source": []
  },
  {
   "cell_type": "code",
   "execution_count": null,
   "id": "fc1709d6",
   "metadata": {},
   "outputs": [],
   "source": []
  },
  {
   "cell_type": "code",
   "execution_count": null,
   "id": "612434ed",
   "metadata": {},
   "outputs": [],
   "source": []
  },
  {
   "cell_type": "code",
   "execution_count": null,
   "id": "4977c888",
   "metadata": {},
   "outputs": [],
   "source": []
  },
  {
   "cell_type": "code",
   "execution_count": null,
   "id": "ed9b7779",
   "metadata": {},
   "outputs": [],
   "source": []
  },
  {
   "cell_type": "code",
   "execution_count": null,
   "id": "c4185915",
   "metadata": {},
   "outputs": [],
   "source": []
  },
  {
   "cell_type": "code",
   "execution_count": null,
   "id": "3564f5cb",
   "metadata": {},
   "outputs": [],
   "source": []
  }
 ],
 "metadata": {
  "kernelspec": {
   "display_name": "Python 3 (ipykernel)",
   "language": "python",
   "name": "python3"
  },
  "language_info": {
   "codemirror_mode": {
    "name": "ipython",
    "version": 3
   },
   "file_extension": ".py",
   "mimetype": "text/x-python",
   "name": "python",
   "nbconvert_exporter": "python",
   "pygments_lexer": "ipython3",
   "version": "3.9.16"
  }
 },
 "nbformat": 4,
 "nbformat_minor": 5
}
