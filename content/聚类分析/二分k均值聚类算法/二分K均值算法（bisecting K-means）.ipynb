{
 "cells": [
  {
   "cell_type": "markdown",
   "id": "0a402b40",
   "metadata": {},
   "source": [
    "### 导入所需库及配置项"
   ]
  },
  {
   "cell_type": "code",
   "execution_count": 1,
   "id": "1a6bbf89",
   "metadata": {},
   "outputs": [],
   "source": [
    "import numpy as np\n",
    "import matplotlib.pyplot as plt"
   ]
  },
  {
   "cell_type": "markdown",
   "id": "4f6c3d58",
   "metadata": {},
   "source": [
    "### 读取示例数据集并可视化"
   ]
  },
  {
   "cell_type": "code",
   "execution_count": 2,
   "id": "e79cf5b0",
   "metadata": {},
   "outputs": [
    {
     "data": {
      "text/plain": [
       "array([[ 3.275154,  2.957587],\n",
       "       [-3.344465,  2.603513],\n",
       "       [ 0.355083, -3.376585],\n",
       "       [ 1.852435,  3.547351],\n",
       "       [-2.078973,  2.552013]])"
      ]
     },
     "execution_count": 2,
     "metadata": {},
     "output_type": "execute_result"
    }
   ],
   "source": [
    "# 读取 txt 文件\n",
    "dataSet = np.loadtxt('testData.txt' , delimiter='\\t')\n",
    "dataSet[:5]"
   ]
  },
  {
   "cell_type": "code",
   "execution_count": 3,
   "id": "fda0c584",
   "metadata": {},
   "outputs": [
    {
     "data": {
      "text/plain": [
       "(60, 2)"
      ]
     },
     "execution_count": 3,
     "metadata": {},
     "output_type": "execute_result"
    }
   ],
   "source": [
    "dataSet.shape"
   ]
  },
  {
   "cell_type": "code",
   "execution_count": 4,
   "id": "370739b6",
   "metadata": {},
   "outputs": [
    {
     "data": {
      "text/plain": [
       "<matplotlib.collections.PathCollection at 0x2c62acfa730>"
      ]
     },
     "execution_count": 4,
     "metadata": {},
     "output_type": "execute_result"
    },
    {
     "data": {
      "image/png": "[encoded data removed]",
      "text/plain": [
       "<Figure size 640x480 with 1 Axes>"
      ]
     },
     "metadata": {},
     "output_type": "display_data"
    }
   ],
   "source": [
    "# 绘图\n",
    "plt.scatter(dataSet[:,0] , dataSet[:,1] , s=20 )"
   ]
  },
  {
   "cell_type": "markdown",
   "id": "69b5e67f",
   "metadata": {},
   "source": [
    "### K均值算法实现"
   ]
  },
  {
   "cell_type": "code",
   "execution_count": 5,
   "id": "db08bf0d",
   "metadata": {},
   "outputs": [],
   "source": [
    "# 定义计算两个向量的欧式距离的函数\n",
    "def euclidean_distance(vecA, vecB):\n",
    "    return np.sqrt(sum(pow(vecA - vecB, 2)))"
   ]
  },
  {
   "cell_type": "code",
   "execution_count": 6,
   "id": "855ecd2d",
   "metadata": {},
   "outputs": [],
   "source": [
    "# 定义质心初始化函数\n",
    "def centroids_init(dataSet , k):\n",
    "    \"\"\"\n",
    "    质心初始化函数\n",
    "    Parameters，参数说明:\n",
    "    dataSet：数据集\n",
    "    k:簇的数目\n",
    "    输出：\n",
    "    centroids：簇的质心矩阵\n",
    "    \"\"\"\n",
    "    # 数据的特征维度数目\n",
    "    n = dataSet.shape[1]\n",
    "    # 创建一个全零的数组\n",
    "    centroids = np.zeros((k,n))\n",
    "    for j in range(n):\n",
    "        # 计算每个特征维度的的最小值\n",
    "        minJ = min(dataSet[:,j])\n",
    "        # 每个特征维度最大值 - 最小值\n",
    "        rangeJ = max(dataSet[:,j]) - min(dataSet[:,j])\n",
    "        # 在整个数据集的边界范围内，创建随机质心\n",
    "        centroids[:,j] = minJ + rangeJ*np.random.rand(k,)\n",
    "    return centroids"
   ]
  },
  {
   "cell_type": "code",
   "execution_count": 7,
   "id": "02042d14",
   "metadata": {},
   "outputs": [],
   "source": [
    "def kMeans(dataSet, k, calculatedists=euclidean_distance, createCent=centroids_init):\n",
    "    \"\"\"\n",
    "    K均值算法\n",
    "    Parameters，参数说明:\n",
    "    dataSet：数据集\n",
    "    k:簇的数目\n",
    "    calculatedists:计算距离的函数\n",
    "    createCent:创建初始簇质心的函数\n",
    "    输出：\n",
    "    centroids：簇的质心矩阵\n",
    "    clusterAssment：簇分配结果以及与簇质心间的距离\n",
    "    \"\"\"\n",
    "    m = dataSet.shape[0]\n",
    "    # 存储每个点的簇分配结果（第一列）以及与簇质心间的距离（第二列）\n",
    "    clusterAssment = np.zeros((m,2))\n",
    "    # 生成初始簇质心\n",
    "    centroids = createCent(dataSet,k)\n",
    "    \n",
    "    clusterChange = True\n",
    "    while clusterChange:\n",
    "        clusterChange = False\n",
    "        for i in range(m):\n",
    "            minDist = np.inf\n",
    "            minIndex = -1\n",
    "            for j in range(k):\n",
    "                distJI = calculatedists(centroids[j,:] , dataSet[i,:])\n",
    "                if distJI < minDist:\n",
    "                    minDist = distJI\n",
    "                    minIndex = j\n",
    "            if clusterAssment[i,0] != minIndex:clusterChange = True\n",
    "            clusterAssment[i,:] = minIndex , minDist**2\n",
    "#         print(centroids)\n",
    "        for cent in range(k):\n",
    "            # 获取每个簇包含的所有点\n",
    "            ptsInClust = dataSet[clusterAssment[:,0] == cent]\n",
    "            # 计算每个簇的数据点的平均值，并将其作为新的簇中心点\n",
    "            centroids[cent,:] = np.mean(ptsInClust, axis=0)\n",
    "    return centroids, clusterAssment"
   ]
  },
  {
   "cell_type": "markdown",
   "id": "96d43b63",
   "metadata": {},
   "source": [
    "### 二分K均值算法实现"
   ]
  },
  {
   "cell_type": "code",
   "execution_count": 8,
   "id": "98a62e5a",
   "metadata": {},
   "outputs": [],
   "source": [
    "def biKmeans(dataSet, k, calculatedists=euclidean_distance):\n",
    "    \"\"\"\n",
    "    二分K均值算法\n",
    "    Parameters，参数说明:\n",
    "    dataSet：数据集\n",
    "    k:簇的数目\n",
    "    calculatedists:计算距离的函数\n",
    "    输出：\n",
    "    centroids：簇的质心矩阵\n",
    "    clusterAssment：簇分配结果以及与簇质心间的距离\n",
    "    \"\"\"\n",
    "    m = dataSet.shape[0]\n",
    "    # 存储每个点的簇分配结果（第一列）以及与簇质心间的距离（第二列）\n",
    "    clusterAssment = np.zeros((m,2))\n",
    "    # 计算整个数据集的质心\n",
    "    centroid0 = np.mean(dataSet, axis=0)\n",
    "    # 创建一个列表，用于保留所有的质心\n",
    "    centList =[centroid0.tolist()]\n",
    "    # 计算初始误差\n",
    "    for j in range(m):\n",
    "        clusterAssment[j,1] = calculatedists(centroid0, dataSet[j,:])**2\n",
    "        \n",
    "    while (len(centList) < k):\n",
    "        lowestSSE = np.inf\n",
    "        for i in range(len(centList)):\n",
    "            # 当前簇中的数据点\n",
    "            ptsInCurrCluster = dataSet[clusterAssment[:,0]==i]\n",
    "            # 通过k均值算法将该簇划分为两个簇\n",
    "            centroids, splitClustAss = kMeans(ptsInCurrCluster, 2, calculatedists)\n",
    "            # 计算当前簇的SSE误差值\n",
    "            sseSplit = sum(splitClustAss[:,1])\n",
    "            # 计算剩余数据集的误差值\n",
    "            sseNotSplit = sum(clusterAssment[clusterAssment[:,0]!=i,1])\n",
    "            print(\"sseSplit and notSplit: \",sseSplit,sseNotSplit)\n",
    "            # 将 SSE误差 与当前的最小值相比较\n",
    "            if (sseSplit + sseNotSplit) < lowestSSE:\n",
    "                bestCentToSplit = i\n",
    "                bestNewCents = centroids\n",
    "                bestClustAss = splitClustAss.copy()\n",
    "                lowestSSE = sseSplit + sseNotSplit\n",
    "        bestClustAss[(bestClustAss[:,0] == 1),0] = len(centList) #change 1 to 3,4, or whatever\n",
    "        bestClustAss[(bestClustAss[:,0] == 0),0] = bestCentToSplit\n",
    "        print('the bestCentToSplit is: ',bestCentToSplit)\n",
    "        print('the len of bestClustAss is: ', len(bestClustAss))\n",
    "        # 原有一个质心更新为两个质心\n",
    "        centList[bestCentToSplit] = bestNewCents[0,:].tolist()\n",
    "        centList.append(bestNewCents[1,:].tolist())\n",
    "        # 重新分配新的簇\n",
    "        clusterAssment[(clusterAssment[:,0] == bestCentToSplit),:]= bestClustAss\n",
    "    return np.array(centList), clusterAssment"
   ]
  },
  {
   "cell_type": "markdown",
   "id": "55138280",
   "metadata": {},
   "source": [
    "### 可视化聚类结果"
   ]
  },
  {
   "cell_type": "code",
   "execution_count": 9,
   "id": "4944a9a2",
   "metadata": {},
   "outputs": [
    {
     "name": "stdout",
     "output_type": "stream",
     "text": [
      "sseSplit and notSplit:  570.7227574246753 0\n",
      "the bestCentToSplit is:  0\n",
      "the len of bestClustAss is:  60\n",
      "sseSplit and notSplit:  28.719862324781683 532.6598067890178\n",
      "sseSplit and notSplit:  68.68654812621844 38.06295063565754\n",
      "the bestCentToSplit is:  1\n",
      "the len of bestClustAss is:  40\n"
     ]
    }
   ],
   "source": [
    "centroids, clusterAssment = biKmeans(dataSet, 3)"
   ]
  },
  {
   "cell_type": "code",
   "execution_count": 10,
   "id": "5c07aaf3",
   "metadata": {},
   "outputs": [
    {
     "data": {
      "text/plain": [
       "array([[-2.94737575,  3.3263781 ],\n",
       "       [ 2.93386365,  3.12782785],\n",
       "       [-0.45965615, -2.7782156 ]])"
      ]
     },
     "execution_count": 10,
     "metadata": {},
     "output_type": "execute_result"
    }
   ],
   "source": [
    "centroids"
   ]
  },
  {
   "cell_type": "code",
   "execution_count": 11,
   "id": "1e77dd07",
   "metadata": {
    "scrolled": false
   },
   "outputs": [
    {
     "data": {
      "text/plain": [
       "array([[1.00000000e+00, 1.45461050e-01],\n",
       "       [0.00000000e+00, 6.80213825e-01],\n",
       "       [2.00000000e+00, 1.02184582e+00],\n",
       "       [1.00000000e+00, 1.34548760e+00],\n",
       "       [0.00000000e+00, 1.35376464e+00],\n",
       "       [2.00000000e+00, 3.87167519e+00],\n",
       "       [1.00000000e+00, 8.37259951e-01],\n",
       "       [0.00000000e+00, 2.20116272e-01],\n",
       "       [2.00000000e+00, 3.53809057e+00],\n",
       "       [1.00000000e+00, 7.44081160e+00],\n",
       "       [0.00000000e+00, 5.28070040e+00],\n",
       "       [2.00000000e+00, 2.56674394e-02],\n",
       "       [1.00000000e+00, 1.11946529e+00],\n",
       "       [0.00000000e+00, 1.67890884e-01],\n",
       "       [2.00000000e+00, 2.11734245e+00],\n",
       "       [1.00000000e+00, 1.49635209e+00],\n",
       "       [0.00000000e+00, 4.93628241e+00],\n",
       "       [2.00000000e+00, 9.76749869e-03],\n",
       "       [1.00000000e+00, 1.32453845e-01],\n",
       "       [0.00000000e+00, 6.39346045e-01],\n",
       "       [2.00000000e+00, 9.41791924e-01],\n",
       "       [1.00000000e+00, 1.72445523e+00],\n",
       "       [0.00000000e+00, 7.50682798e-01],\n",
       "       [2.00000000e+00, 1.48785604e-01],\n",
       "       [1.00000000e+00, 3.00429548e+00],\n",
       "       [0.00000000e+00, 5.15437527e+00],\n",
       "       [2.00000000e+00, 1.80316434e+00],\n",
       "       [1.00000000e+00, 2.74825782e+00],\n",
       "       [0.00000000e+00, 4.66860313e-01],\n",
       "       [2.00000000e+00, 1.28807718e+00],\n",
       "       [1.00000000e+00, 1.76804356e+00],\n",
       "       [0.00000000e+00, 3.54002368e+00],\n",
       "       [2.00000000e+00, 2.12516750e+00],\n",
       "       [1.00000000e+00, 1.14812052e+00],\n",
       "       [0.00000000e+00, 1.78247878e+00],\n",
       "       [2.00000000e+00, 8.79445646e-01],\n",
       "       [1.00000000e+00, 3.23315472e+00],\n",
       "       [0.00000000e+00, 7.43934371e-01],\n",
       "       [2.00000000e+00, 2.36276631e+00],\n",
       "       [1.00000000e+00, 2.59370616e-01],\n",
       "       [0.00000000e+00, 1.82015977e+00],\n",
       "       [2.00000000e+00, 2.10599050e+00],\n",
       "       [1.00000000e+00, 2.94567602e+00],\n",
       "       [0.00000000e+00, 2.49952822e+00],\n",
       "       [2.00000000e+00, 1.54957269e+00],\n",
       "       [1.00000000e+00, 9.45169633e-01],\n",
       "       [0.00000000e+00, 2.91966903e+00],\n",
       "       [2.00000000e+00, 1.13851139e+00],\n",
       "       [1.00000000e+00, 5.09476462e+00],\n",
       "       [0.00000000e+00, 1.64971118e+00],\n",
       "       [2.00000000e+00, 1.98934951e-01],\n",
       "       [1.00000000e+00, 1.50301593e+00],\n",
       "       [0.00000000e+00, 2.13359760e-01],\n",
       "       [2.00000000e+00, 2.16005416e+00],\n",
       "       [1.00000000e+00, 2.63462894e+00],\n",
       "       [0.00000000e+00, 7.60898177e-02],\n",
       "       [2.00000000e+00, 2.60198288e-01],\n",
       "       [1.00000000e+00, 3.05416591e-03],\n",
       "       [0.00000000e+00, 3.16776316e+00],\n",
       "       [2.00000000e+00, 1.61040000e+00]])"
      ]
     },
     "execution_count": 11,
     "metadata": {},
     "output_type": "execute_result"
    }
   ],
   "source": [
    "clusterAssment"
   ]
  },
  {
   "cell_type": "code",
   "execution_count": 12,
   "id": "b21d7405",
   "metadata": {
    "scrolled": false
   },
   "outputs": [
    {
     "data": {
      "image/png": "[encoded data removed]",
      "text/plain": [
       "<Figure size 640x480 with 1 Axes>"
      ]
     },
     "metadata": {},
     "output_type": "display_data"
    }
   ],
   "source": [
    "color = [\"orange\" , \"green\" , \"blue\" ]\n",
    "m = dataSet.shape[0]\n",
    "\n",
    "# 根据簇类别分别可视化原数据点\n",
    "for i in range(m):\n",
    "    if clusterAssment[i,0] == 0:\n",
    "        plt.scatter(dataSet[i,0] , dataSet[i,1] , marker=\"+\" , s=50 , color=color[0])\n",
    "    if clusterAssment[i,0] == 1:\n",
    "        plt.scatter(dataSet[i,0] , dataSet[i,1] , marker=\"+\" , s=50 , color=color[1])\n",
    "    if clusterAssment[i,0] == 2:\n",
    "        plt.scatter(dataSet[i,0] , dataSet[i,1] , marker=\"+\" , s=50 , color=color[2])\n",
    "        \n",
    "# 可视化最终簇质心点\n",
    "for i in range(3):\n",
    "    plt.scatter(centroids[i,0] , centroids[i,1] , marker=\"o\" , s=50 , color=\"red\")"
   ]
  },
  {
   "cell_type": "code",
   "execution_count": null,
   "id": "72c7b8f7",
   "metadata": {},
   "outputs": [],
   "source": []
  },
  {
   "cell_type": "code",
   "execution_count": null,
   "id": "3b2533bf",
   "metadata": {},
   "outputs": [],
   "source": []
  },
  {
   "cell_type": "code",
   "execution_count": null,
   "id": "753f7e86",
   "metadata": {},
   "outputs": [],
   "source": []
  },
  {
   "cell_type": "code",
   "execution_count": null,
   "id": "046f67b8",
   "metadata": {},
   "outputs": [],
   "source": []
  },
  {
   "cell_type": "code",
   "execution_count": null,
   "id": "82c2c2c4",
   "metadata": {},
   "outputs": [],
   "source": []
  },
  {
   "cell_type": "code",
   "execution_count": null,
   "id": "a56e81ff",
   "metadata": {},
   "outputs": [],
   "source": []
  },
  {
   "cell_type": "code",
   "execution_count": null,
   "id": "fff3a474",
   "metadata": {},
   "outputs": [],
   "source": []
  },
  {
   "cell_type": "code",
   "execution_count": null,
   "id": "d8732e53",
   "metadata": {},
   "outputs": [],
   "source": []
  },
  {
   "cell_type": "code",
   "execution_count": null,
   "id": "e27d1865",
   "metadata": {},
   "outputs": [],
   "source": []
  },
  {
   "cell_type": "code",
   "execution_count": null,
   "id": "232ea5f0",
   "metadata": {},
   "outputs": [],
   "source": []
  },
  {
   "cell_type": "code",
   "execution_count": null,
   "id": "045b0215",
   "metadata": {},
   "outputs": [],
   "source": []
  },
  {
   "cell_type": "code",
   "execution_count": null,
   "id": "c7bdec8e",
   "metadata": {},
   "outputs": [],
   "source": []
  },
  {
   "cell_type": "code",
   "execution_count": null,
   "id": "010cb5f5",
   "metadata": {},
   "outputs": [],
   "source": []
  },
  {
   "cell_type": "code",
   "execution_count": null,
   "id": "ed2d6927",
   "metadata": {},
   "outputs": [],
   "source": []
  },
  {
   "cell_type": "code",
   "execution_count": null,
   "id": "ee403125",
   "metadata": {},
   "outputs": [],
   "source": []
  },
  {
   "cell_type": "code",
   "execution_count": null,
   "id": "826dc114",
   "metadata": {},
   "outputs": [],
   "source": []
  },
  {
   "cell_type": "code",
   "execution_count": null,
   "id": "b9381582",
   "metadata": {},
   "outputs": [],
   "source": []
  },
  {
   "cell_type": "code",
   "execution_count": null,
   "id": "65c1f387",
   "metadata": {},
   "outputs": [],
   "source": []
  }
 ],
 "metadata": {
  "kernelspec": {
   "display_name": "Python 3 (ipykernel)",
   "language": "python",
   "name": "python3"
  },
  "language_info": {
   "codemirror_mode": {
    "name": "ipython",
    "version": 3
   },
   "file_extension": ".py",
   "mimetype": "text/x-python",
   "name": "python",
   "nbconvert_exporter": "python",
   "pygments_lexer": "ipython3",
   "version": "3.9.16"
  }
 },
 "nbformat": 4,
 "nbformat_minor": 5
}
