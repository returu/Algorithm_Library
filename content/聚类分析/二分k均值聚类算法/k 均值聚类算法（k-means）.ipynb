{
 "cells": [
  {
   "cell_type": "markdown",
   "id": "4a7258e8",
   "metadata": {},
   "source": [
    "### 导入所需库及配置项"
   ]
  },
  {
   "cell_type": "code",
   "execution_count": 1,
   "id": "d737d80a",
   "metadata": {},
   "outputs": [],
   "source": [
    "import numpy as np\n",
    "import matplotlib.pyplot as plt\n",
    "\n",
    "# 显示中文\n",
    "plt.rcParams['font.family'] = 'SimHei'\n",
    "plt.rcParams['axes.unicode_minus'] = False"
   ]
  },
  {
   "cell_type": "markdown",
   "id": "d546c4d3",
   "metadata": {},
   "source": [
    "### 读取示例数据集并可视化"
   ]
  },
  {
   "cell_type": "code",
   "execution_count": 2,
   "id": "f90ce794",
   "metadata": {},
   "outputs": [
    {
     "data": {
      "text/plain": [
       "array([[ 3.275154,  2.957587],\n",
       "       [-3.344465,  2.603513],\n",
       "       [ 0.355083, -3.376585],\n",
       "       [ 1.852435,  3.547351],\n",
       "       [-2.078973,  2.552013]])"
      ]
     },
     "execution_count": 2,
     "metadata": {},
     "output_type": "execute_result"
    }
   ],
   "source": [
    "# 读取 txt 文件\n",
    "dataSet = np.loadtxt('testData.txt' , delimiter='\\t')\n",
    "dataSet[:5]"
   ]
  },
  {
   "cell_type": "code",
   "execution_count": 3,
   "id": "db27e292",
   "metadata": {},
   "outputs": [
    {
     "data": {
      "text/plain": [
       "(60, 2)"
      ]
     },
     "execution_count": 3,
     "metadata": {},
     "output_type": "execute_result"
    }
   ],
   "source": [
    "dataSet.shape"
   ]
  },
  {
   "cell_type": "code",
   "execution_count": 4,
   "id": "596de6a4",
   "metadata": {},
   "outputs": [
    {
     "data": {
      "text/plain": [
       "<matplotlib.collections.PathCollection at 0x1b0ce0fb670>"
      ]
     },
     "execution_count": 4,
     "metadata": {},
     "output_type": "execute_result"
    },
    {
     "data": {
      "image/png": "[encoded data removed]",
      "text/plain": [
       "<Figure size 640x480 with 1 Axes>"
      ]
     },
     "metadata": {},
     "output_type": "display_data"
    }
   ],
   "source": [
    "# 绘图\n",
    "plt.scatter(dataSet[:,0] , dataSet[:,1] , s=20 )"
   ]
  },
  {
   "cell_type": "markdown",
   "id": "f2c8f2d4",
   "metadata": {},
   "source": [
    "### 定义功能函数"
   ]
  },
  {
   "cell_type": "code",
   "execution_count": 5,
   "id": "f47e206d",
   "metadata": {},
   "outputs": [],
   "source": [
    "# 定义计算两个向量的欧式距离的函数\n",
    "def euclidean_distance(vecA, vecB):\n",
    "    return np.sqrt(sum(pow(vecA - vecB, 2)))"
   ]
  },
  {
   "cell_type": "code",
   "execution_count": 6,
   "id": "bc44cae9",
   "metadata": {},
   "outputs": [],
   "source": [
    "# 定义质心初始化函数\n",
    "def centroids_init(dataSet , k):\n",
    "    \"\"\"\n",
    "    质心初始化函数\n",
    "    Parameters，参数说明:\n",
    "    dataSet：数据集\n",
    "    k:簇的数目\n",
    "    输出：\n",
    "    centroids：簇的质心矩阵\n",
    "    \"\"\"\n",
    "    # 数据的特征维度数目\n",
    "    n = dataSet.shape[1]\n",
    "    # 创建一个全零的数组\n",
    "    centroids = np.zeros((k,n))\n",
    "    for j in range(n):\n",
    "        # 计算每个特征维度的的最小值\n",
    "        minJ = min(dataSet[:,j])\n",
    "        # 每个特征维度最大值 - 最小值\n",
    "        rangeJ = max(dataSet[:,j]) - min(dataSet[:,j])\n",
    "        # 在整个数据集的边界范围内，创建随机质心\n",
    "        centroids[:,j] = minJ + rangeJ*np.random.rand(k,)\n",
    "    return centroids"
   ]
  },
  {
   "cell_type": "markdown",
   "id": "c1a487c9",
   "metadata": {},
   "source": [
    "### K-means算法实现"
   ]
  },
  {
   "cell_type": "markdown",
   "id": "05bb3dc6",
   "metadata": {},
   "source": [
    "#### 按照“计算质心-分配簇-重新计算”的流程反复迭代，直到所有数据点的簇分配结果不在改变为止"
   ]
  },
  {
   "cell_type": "code",
   "execution_count": 7,
   "id": "6520f0c6",
   "metadata": {},
   "outputs": [],
   "source": [
    "def kMeans(dataSet, k, calculatedists=euclidean_distance, createCent=centroids_init):\n",
    "    \"\"\"\n",
    "    输入：\n",
    "    dataSet：数据集\n",
    "    k:簇的数目\n",
    "    calculatedists:计算距离的函数\n",
    "    createCent:创建初始簇质心的函数\n",
    "    输出：\n",
    "    centroids：簇的质心矩阵\n",
    "    clusterAssment：簇分配结果以及与簇质心间的距离\n",
    "    \"\"\"\n",
    "    m = dataSet.shape[0]\n",
    "    # 存储每个点的簇分配结果（第一列）以及与簇质心间的距离（第二列）\n",
    "    clusterAssment = np.zeros((m,2))\n",
    "    # 生成初始簇质心\n",
    "    centroids = createCent(dataSet,k)\n",
    "    \n",
    "    clusterChange = True\n",
    "    while clusterChange:\n",
    "        clusterChange = False\n",
    "        for i in range(m):\n",
    "            minDist = np.inf\n",
    "            minIndex = -1\n",
    "            for j in range(k):\n",
    "                distJI = calculatedists(centroids[j,:] , dataSet[i,:])\n",
    "                if distJI < minDist:\n",
    "                    minDist = distJI\n",
    "                    minIndex = j\n",
    "            if clusterAssment[i,0] != minIndex:clusterChange = True\n",
    "            clusterAssment[i,:] = minIndex , minDist**2\n",
    "        print(centroids)\n",
    "        for cent in range(k):\n",
    "            # 获取每个簇包含的所有点\n",
    "            ptsInClust = dataSet[clusterAssment[:,0] == cent]\n",
    "            # 计算每个簇的数据点的平均值，并将其作为新的簇中心点\n",
    "            centroids[cent,:] = np.mean(ptsInClust, axis=0)\n",
    "    return centroids, clusterAssment"
   ]
  },
  {
   "cell_type": "markdown",
   "id": "d9ea1bd3",
   "metadata": {},
   "source": [
    "### 可视化聚类结果"
   ]
  },
  {
   "cell_type": "code",
   "execution_count": 8,
   "id": "7668db74",
   "metadata": {},
   "outputs": [
    {
     "name": "stdout",
     "output_type": "stream",
     "text": [
      "[[-3.30944478 -2.38785422]\n",
      " [-3.31281523 -2.78155515]\n",
      " [ 0.06655597  2.27227695]]\n",
      "[[-1.38716275 -1.475158  ]\n",
      " [-0.15447569 -3.26445692]\n",
      " [ 0.09338772  3.27587208]]\n",
      "[[-2.01085771 -0.76557657]\n",
      " [-0.15366667 -3.15354   ]\n",
      " [ 0.18204313  3.32057745]]\n"
     ]
    }
   ],
   "source": [
    "centroids, clusterAssment = kMeans(dataSet, 3)"
   ]
  },
  {
   "cell_type": "code",
   "execution_count": 9,
   "id": "2ac0ad24",
   "metadata": {},
   "outputs": [
    {
     "data": {
      "text/plain": [
       "array([[-2.01085771, -0.76557657],\n",
       "       [-0.15366667, -3.15354   ],\n",
       "       [ 0.18204313,  3.32057745]])"
      ]
     },
     "execution_count": 9,
     "metadata": {},
     "output_type": "execute_result"
    }
   ],
   "source": [
    "centroids"
   ]
  },
  {
   "cell_type": "code",
   "execution_count": 10,
   "id": "ea41e926",
   "metadata": {},
   "outputs": [
    {
     "data": {
      "text/plain": [
       "array([[2.00000000e+00, 9.69909691e+00],\n",
       "       [2.00000000e+00, 1.29504410e+01],\n",
       "       [1.00000000e+00, 3.08575295e-01],\n",
       "       [2.00000000e+00, 2.84163524e+00],\n",
       "       [2.00000000e+00, 5.70288526e+00],\n",
       "       [0.00000000e+00, 1.04862275e+00],\n",
       "       [2.00000000e+00, 6.72300728e+00],\n",
       "       [2.00000000e+00, 1.08869613e+01],\n",
       "       [0.00000000e+00, 4.39400204e-01],\n",
       "       [2.00000000e+00, 1.33755933e+01],\n",
       "       [2.00000000e+00, 7.51976709e-01],\n",
       "       [1.00000000e+00, 3.80393553e-01],\n",
       "       [2.00000000e+00, 4.85265334e+00],\n",
       "       [2.00000000e+00, 9.79116781e+00],\n",
       "       [1.00000000e+00, 1.04487554e+00],\n",
       "       [2.00000000e+00, 1.33027793e+01],\n",
       "       [0.00000000e+00, 7.98668433e+00],\n",
       "       [1.00000000e+00, 2.73561785e-01],\n",
       "       [2.00000000e+00, 7.17549753e+00],\n",
       "       [2.00000000e+00, 1.44771130e+01],\n",
       "       [1.00000000e+00, 9.41179491e-01],\n",
       "       [2.00000000e+00, 2.16487648e+00],\n",
       "       [2.00000000e+00, 5.13405130e+00],\n",
       "       [1.00000000e+00, 7.56341230e-01],\n",
       "       [2.00000000e+00, 1.90334540e+01],\n",
       "       [2.00000000e+00, 2.66955668e+01],\n",
       "       [0.00000000e+00, 2.30309496e+00],\n",
       "       [2.00000000e+00, 4.27184227e+00],\n",
       "       [2.00000000e+00, 1.23973707e+01],\n",
       "       [1.00000000e+00, 2.05664274e+00],\n",
       "       [2.00000000e+00, 1.34777075e+01],\n",
       "       [2.00000000e+00, 1.97978970e+01],\n",
       "       [0.00000000e+00, 2.06169418e+00],\n",
       "       [2.00000000e+00, 1.39893738e+01],\n",
       "       [2.00000000e+00, 5.09343608e+00],\n",
       "       [1.00000000e+00, 1.17819009e+00],\n",
       "       [2.00000000e+00, 9.35504378e-01],\n",
       "       [2.00000000e+00, 5.32298884e+00],\n",
       "       [1.00000000e+00, 1.18916998e+00],\n",
       "       [2.00000000e+00, 6.03423543e+00],\n",
       "       [2.00000000e+00, 3.43139440e+00],\n",
       "       [0.00000000e+00, 2.97466973e+00],\n",
       "       [2.00000000e+00, 1.96162336e+01],\n",
       "       [2.00000000e+00, 2.11827404e+01],\n",
       "       [1.00000000e+00, 8.67162158e-01],\n",
       "       [2.00000000e+00, 9.95744929e+00],\n",
       "       [2.00000000e+00, 1.94738931e+01],\n",
       "       [1.00000000e+00, 6.36715400e-01],\n",
       "       [2.00000000e+00, 1.99764531e+01],\n",
       "       [2.00000000e+00, 4.73503930e+00],\n",
       "       [1.00000000e+00, 2.01990524e-02],\n",
       "       [2.00000000e+00, 1.52029697e+01],\n",
       "       [2.00000000e+00, 1.08502458e+01],\n",
       "       [1.00000000e+00, 1.08836040e+00],\n",
       "       [2.00000000e+00, 1.31289850e+00],\n",
       "       [2.00000000e+00, 9.51309132e+00],\n",
       "       [1.00000000e+00, 7.58330535e-01],\n",
       "       [2.00000000e+00, 7.77940927e+00],\n",
       "       [0.00000000e+00, 7.08734923e+00],\n",
       "       [1.00000000e+00, 6.95994563e-01]])"
      ]
     },
     "execution_count": 10,
     "metadata": {},
     "output_type": "execute_result"
    }
   ],
   "source": [
    "clusterAssment"
   ]
  },
  {
   "cell_type": "code",
   "execution_count": 11,
   "id": "e2164a98",
   "metadata": {},
   "outputs": [
    {
     "data": {
      "image/png": "[encoded data removed]",
      "text/plain": [
       "<Figure size 640x480 with 1 Axes>"
      ]
     },
     "metadata": {},
     "output_type": "display_data"
    }
   ],
   "source": [
    "color = [\"orange\" , \"green\" , \"blue\" , \"purple\"]\n",
    "m = dataSet.shape[0]\n",
    "\n",
    "# 根据簇类别分别可视化原数据点\n",
    "for i in range(m):\n",
    "    if clusterAssment[i,0] == 0:\n",
    "        plt.scatter(dataSet[i,0] , dataSet[i,1] , marker=\"+\" , s=50 , color=color[0])\n",
    "    if clusterAssment[i,0] == 1:\n",
    "        plt.scatter(dataSet[i,0] , dataSet[i,1] , marker=\"+\" , s=50 , color=color[1])\n",
    "    if clusterAssment[i,0] == 2:\n",
    "        plt.scatter(dataSet[i,0] , dataSet[i,1] , marker=\"+\" , s=50 , color=color[2])\n",
    "        \n",
    "# 可视化最终簇质心点\n",
    "for i in range(3):\n",
    "    plt.scatter(centroids[i,0] , centroids[i,1] , marker=\"o\" , s=50 , color=\"red\")"
   ]
  },
  {
   "cell_type": "code",
   "execution_count": null,
   "id": "a18372c0",
   "metadata": {},
   "outputs": [],
   "source": []
  },
  {
   "cell_type": "code",
   "execution_count": null,
   "id": "7acf7a9e",
   "metadata": {},
   "outputs": [],
   "source": []
  },
  {
   "cell_type": "code",
   "execution_count": null,
   "id": "fc1709d6",
   "metadata": {},
   "outputs": [],
   "source": []
  },
  {
   "cell_type": "code",
   "execution_count": null,
   "id": "612434ed",
   "metadata": {},
   "outputs": [],
   "source": []
  },
  {
   "cell_type": "code",
   "execution_count": null,
   "id": "4977c888",
   "metadata": {},
   "outputs": [],
   "source": []
  },
  {
   "cell_type": "code",
   "execution_count": null,
   "id": "ed9b7779",
   "metadata": {},
   "outputs": [],
   "source": []
  },
  {
   "cell_type": "code",
   "execution_count": null,
   "id": "c4185915",
   "metadata": {},
   "outputs": [],
   "source": []
  },
  {
   "cell_type": "code",
   "execution_count": null,
   "id": "3564f5cb",
   "metadata": {},
   "outputs": [],
   "source": []
  }
 ],
 "metadata": {
  "kernelspec": {
   "display_name": "Python 3 (ipykernel)",
   "language": "python",
   "name": "python3"
  },
  "language_info": {
   "codemirror_mode": {
    "name": "ipython",
    "version": 3
   },
   "file_extension": ".py",
   "mimetype": "text/x-python",
   "name": "python",
   "nbconvert_exporter": "python",
   "pygments_lexer": "ipython3",
   "version": "3.9.16"
  }
 },
 "nbformat": 4,
 "nbformat_minor": 5
}
