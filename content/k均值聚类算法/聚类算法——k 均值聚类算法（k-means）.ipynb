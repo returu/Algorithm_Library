{
 "cells": [
  {
   "cell_type": "markdown",
   "id": "e61bc844",
   "metadata": {},
   "source": [
    "# 1.基于NumPy实现 k 均值聚类算法"
   ]
  },
  {
   "cell_type": "code",
   "execution_count": 1,
   "id": "b3ea9669",
   "metadata": {},
   "outputs": [],
   "source": [
    "import numpy as np"
   ]
  },
  {
   "cell_type": "markdown",
   "id": "e0be78b8",
   "metadata": {},
   "source": [
    "#### 1.两个向量 x 和 y 之间的欧式距离计算函数"
   ]
  },
  {
   "cell_type": "code",
   "execution_count": 2,
   "id": "752927a7",
   "metadata": {},
   "outputs": [],
   "source": [
    "def euclidean_distance(x , y):\n",
    "    \"\"\"\n",
    "    输入：\n",
    "    x:向量x\n",
    "    y:向量y\n",
    "    输出：\n",
    "    np.sqrt(distance):欧氏距离\n",
    "    \"\"\"\n",
    "    # 初始化距离\n",
    "    distance = 0\n",
    "    # 遍历并对距离的平方进行累加\n",
    "    for i in range(len(x)):\n",
    "        distance += pow((x[i] - y[i]) , 2)\n",
    "        \n",
    "    return np.sqrt(distance)"
   ]
  },
  {
   "cell_type": "markdown",
   "id": "f361cf2b",
   "metadata": {},
   "source": [
    "#### 2.簇中心点初始化函数"
   ]
  },
  {
   "cell_type": "code",
   "execution_count": 3,
   "id": "7c4da6d7",
   "metadata": {},
   "outputs": [],
   "source": [
    "def centroids_init(X , k):\n",
    "    \"\"\"\n",
    "    输入：\n",
    "    X：训练样本，NumPy数组\n",
    "    k：簇中心点个数，也是聚类个数\n",
    "    输出：\n",
    "    centroids：簇中心点矩阵\n",
    "    \"\"\"\n",
    "    # 样本数和特征数\n",
    "    m , n = X.shape\n",
    "    # 初始化簇中心点矩阵，大小为簇中心点个数×特征数\n",
    "    centroids = np.zeros((k , n))\n",
    "    # 遍历\n",
    "    for i in range(k):\n",
    "        # 每一次循环随机选择一个数据点作为初始簇中心点\n",
    "        centroid = X[np.random.choice(range(m))]\n",
    "        # 将初始簇中心点向量分配给簇中心点矩阵\n",
    "        centroids[i] = centroid\n",
    "        \n",
    "    return centroids"
   ]
  },
  {
   "cell_type": "markdown",
   "id": "7e819306",
   "metadata": {},
   "source": [
    "#### 3.根据质心和距离判断所属簇中心点索引"
   ]
  },
  {
   "cell_type": "code",
   "execution_count": 4,
   "id": "fa95158e",
   "metadata": {},
   "outputs": [],
   "source": [
    "def closeest_centroid(x , centroids):\n",
    "    \"\"\"\n",
    "    输入：\n",
    "    x：单个样本实例\n",
    "    centroids：质心矩阵\n",
    "    输出：\n",
    "    closest_i：样本所属簇中心点索引\n",
    "    \"\"\"\n",
    "    # 初始化最近簇索引和最近距离\n",
    "    closeest_i , closeest_dist = 0 , float('inf') # inf 正无穷\n",
    "    # 遍历簇中心点\n",
    "    for i,centroid in enumerate(centroids):\n",
    "        # 计算欧式距离\n",
    "        distance = euclidean_distance(x , centroid)\n",
    "        # 根据欧式距离判断并选择最近质心的索引\n",
    "        if distance < closeest_dist:\n",
    "            closeest_i = i\n",
    "            closeest_dist = distance\n",
    "            \n",
    "    return closeest_i"
   ]
  },
  {
   "cell_type": "markdown",
   "id": "6b7ae26f",
   "metadata": {},
   "source": [
    "#### 4.为每个样本分配簇"
   ]
  },
  {
   "cell_type": "code",
   "execution_count": 5,
   "id": "4bb21bda",
   "metadata": {},
   "outputs": [],
   "source": [
    "def build_clusters(centroids , k , X):\n",
    "    \"\"\"\n",
    "    输入：\n",
    "    centroids：质心矩阵\n",
    "    k：簇中心点个数，也是聚类个数\n",
    "    X：训练样本，NumPy数组\n",
    "    输出：\n",
    "    clusters：聚类簇\n",
    "    \"\"\"\n",
    "    # 初始化簇列表\n",
    "    clusters = [[] for _ in range(k)]\n",
    "    # 遍历训练样本\n",
    "    for x_i ,x in enumerate(X):\n",
    "        # 获取样本所属最近簇中心点的索引\n",
    "        centroid_i = closeest_centroid(x , centroids)\n",
    "        # 将当前样本添加到所属类簇中\n",
    "        clusters[centroid_i].append(x_i)\n",
    "        \n",
    "    return clusters"
   ]
  },
  {
   "cell_type": "markdown",
   "id": "cabe9608",
   "metadata": {},
   "source": [
    "#### 5. 重新计算质心"
   ]
  },
  {
   "cell_type": "code",
   "execution_count": 6,
   "id": "1af29a5e",
   "metadata": {},
   "outputs": [],
   "source": [
    "def calculate_centroids(clusters , k , X):\n",
    "    \"\"\"\n",
    "    输入：\n",
    "    clusters：上一步的聚类簇\n",
    "    k：簇中心点个数，也是聚类个数\n",
    "    X：训练样本，NumPy数组\n",
    "    输出：\n",
    "    centroids：更新后的质心矩阵\n",
    "    \"\"\"\n",
    "    # 特征数\n",
    "    n = X.shape[1]\n",
    "    # 初始化簇中心点矩阵，大小为簇中心点个数×特征数\n",
    "    centroids = np.zeros((k,n))\n",
    "    # 遍历当前簇\n",
    "    for i,cluster in enumerate(clusters):\n",
    "        # 计算每个簇的均值作为新的簇中心点\n",
    "        centroid = np.mean(X[cluster] , axis=0)\n",
    "        # 将簇中心点向量分配给簇中心点矩阵\n",
    "        centroids[i] = centroid\n",
    "        \n",
    "    return centroids"
   ]
  },
  {
   "cell_type": "markdown",
   "id": "4f093f4e",
   "metadata": {},
   "source": [
    "#### 6.获取样本所属的聚类类别"
   ]
  },
  {
   "cell_type": "code",
   "execution_count": 7,
   "id": "fe33fe01",
   "metadata": {},
   "outputs": [],
   "source": [
    "def get_cluster_labels(clusters , X):\n",
    "    \"\"\"\n",
    "    输入：\n",
    "    clusters：当前的聚类簇\n",
    "    X：训练样本，NumPy数组\n",
    "    输出：\n",
    "    y_pred：预测类别\n",
    "    \"\"\"\n",
    "    y_pred = np.zeros(X.shape[0])\n",
    "    \n",
    "    for cluster_i , cluster in enumerate(clusters):\n",
    "        for sample_i in cluster:\n",
    "            y_pred[sample_i] = cluster_i\n",
    "            \n",
    "    return y_pred"
   ]
  },
  {
   "cell_type": "markdown",
   "id": "68fda772",
   "metadata": {},
   "source": [
    "#### 7.将上述各组件进行封装，定义一个完整的k 均值聚类算法流程"
   ]
  },
  {
   "cell_type": "code",
   "execution_count": 8,
   "id": "33f96e0c",
   "metadata": {},
   "outputs": [],
   "source": [
    "def kmeans(X,k,max_iterations):\n",
    "    \"\"\"\n",
    "    输入：\n",
    "    X：训练样本，NumPy数组\n",
    "    k：簇中心点个数，也是聚类个数\n",
    "    max_iterations：最大迭代次数\n",
    "    输出：\n",
    "    预测类别列表\n",
    "    \"\"\"\n",
    "    # 1.初始化簇中心点\n",
    "    centroids = centroids_init(X, k)\n",
    "    # 遍历迭代求解\n",
    "    for _ in range(max_iterations):\n",
    "        # 2.根据当前簇中心点进行聚类\n",
    "        clusters = build_clusters(centroids, k, X)\n",
    "        # 保存当前簇中心点\n",
    "        cur_centroids = centroids\n",
    "        # 3.根据聚类结果计算新的簇中心点\n",
    "        centroids = calculate_centroids(clusters, k, X)\n",
    "        # 4.设定收敛条件为簇中心点是否发生变化\n",
    "        diff = centroids - cur_centroids\n",
    "        if not diff.any():\n",
    "            break\n",
    "    # 返回最终的聚类标签\n",
    "    return get_cluster_labels(clusters, X)"
   ]
  },
  {
   "cell_type": "markdown",
   "id": "b7212748",
   "metadata": {},
   "source": [
    "#### 8.测试"
   ]
  },
  {
   "cell_type": "code",
   "execution_count": 9,
   "id": "dc353491",
   "metadata": {},
   "outputs": [],
   "source": [
    "import matplotlib.pyplot as plt\n",
    "\n",
    "%matplotlib inline"
   ]
  },
  {
   "cell_type": "code",
   "execution_count": 10,
   "id": "099449b9",
   "metadata": {},
   "outputs": [
    {
     "data": {
      "text/plain": [
       "array([[0, 2],\n",
       "       [0, 0],\n",
       "       [1, 0],\n",
       "       [5, 0],\n",
       "       [5, 2]])"
      ]
     },
     "execution_count": 10,
     "metadata": {},
     "output_type": "execute_result"
    }
   ],
   "source": [
    "# 创建测试数据\n",
    "X = np.array([[0,2],[0,0],[1,0],[5,0],[5,2]])\n",
    "X"
   ]
  },
  {
   "cell_type": "code",
   "execution_count": 11,
   "id": "b614465a",
   "metadata": {
    "scrolled": false
   },
   "outputs": [
    {
     "data": {
      "text/plain": [
       "<matplotlib.collections.PathCollection at 0x1bfc921de20>"
      ]
     },
     "execution_count": 11,
     "metadata": {},
     "output_type": "execute_result"
    },
    {
     "data": {
      "image/png": "[encoded data removed]",
      "text/plain": [
       "<Figure size 640x480 with 1 Axes>"
      ]
     },
     "metadata": {},
     "output_type": "display_data"
    }
   ],
   "source": [
    "plt.scatter(X.T[0] , X.T[1])"
   ]
  },
  {
   "cell_type": "code",
   "execution_count": 12,
   "id": "dc2cfc35",
   "metadata": {},
   "outputs": [
    {
     "name": "stdout",
     "output_type": "stream",
     "text": [
      "[0. 0. 0. 1. 1.]\n"
     ]
    }
   ],
   "source": [
    "# 设定聚类类别为2个，最大迭代次数为10\n",
    "labels = kmeans(X, 2, 10)\n",
    "# 打印每个样本所属的类别标签\n",
    "print(labels)"
   ]
  },
  {
   "cell_type": "markdown",
   "id": "40e24e34",
   "metadata": {},
   "source": [
    "# 2.基于sklearn实现 k 均值聚类算法"
   ]
  },
  {
   "cell_type": "code",
   "execution_count": 13,
   "id": "6df04493",
   "metadata": {},
   "outputs": [],
   "source": [
    "# 消除内存泄露警告\n",
    "# UserWarning: KMeans is known to have a memory leak on Windows with MKL, when there are less chunks than available threads. You can avoid it by setting the environment variable OMP_NUM_THREADS=1.\n",
    "import os\n",
    "os.environ[\"OMP_NUM_THREADS\"] = '1'"
   ]
  },
  {
   "cell_type": "code",
   "execution_count": 14,
   "id": "9fbff8d3",
   "metadata": {},
   "outputs": [],
   "source": [
    "# 导入KMeans模块\n",
    "from sklearn.cluster import KMeans"
   ]
  },
  {
   "cell_type": "code",
   "execution_count": 15,
   "id": "70cca026",
   "metadata": {},
   "outputs": [],
   "source": [
    "# 创建测试数据\n",
    "X = np.array([[0,2],[0,0],[1,0],[5,0],[5,2]])"
   ]
  },
  {
   "cell_type": "code",
   "execution_count": 16,
   "id": "6dc5dcb2",
   "metadata": {},
   "outputs": [],
   "source": [
    "# 创建k均值聚类实例并进行数据拟合\n",
    "kmeans = KMeans(n_clusters=2 , random_state=0).fit(X)"
   ]
  },
  {
   "cell_type": "code",
   "execution_count": 17,
   "id": "606ebdb3",
   "metadata": {},
   "outputs": [
    {
     "name": "stdout",
     "output_type": "stream",
     "text": [
      "[1 1 1 0 0]\n"
     ]
    }
   ],
   "source": [
    "# 打印拟合标签\n",
    "print(kmeans.labels_)"
   ]
  },
  {
   "cell_type": "code",
   "execution_count": null,
   "id": "3ce4fe26",
   "metadata": {},
   "outputs": [],
   "source": []
  },
  {
   "cell_type": "code",
   "execution_count": null,
   "id": "74d49eb2",
   "metadata": {},
   "outputs": [],
   "source": []
  },
  {
   "cell_type": "code",
   "execution_count": null,
   "id": "8beb0ebf",
   "metadata": {},
   "outputs": [],
   "source": []
  },
  {
   "cell_type": "code",
   "execution_count": null,
   "id": "12b5c79d",
   "metadata": {},
   "outputs": [],
   "source": []
  },
  {
   "cell_type": "code",
   "execution_count": null,
   "id": "3ba929ef",
   "metadata": {},
   "outputs": [],
   "source": []
  },
  {
   "cell_type": "code",
   "execution_count": null,
   "id": "e4481b3a",
   "metadata": {},
   "outputs": [],
   "source": []
  },
  {
   "cell_type": "code",
   "execution_count": null,
   "id": "7cb5fa7a",
   "metadata": {},
   "outputs": [],
   "source": []
  },
  {
   "cell_type": "code",
   "execution_count": null,
   "id": "7755f2ab",
   "metadata": {},
   "outputs": [],
   "source": []
  }
 ],
 "metadata": {
  "kernelspec": {
   "display_name": "Python 3 (ipykernel)",
   "language": "python",
   "name": "python3"
  },
  "language_info": {
   "codemirror_mode": {
    "name": "ipython",
    "version": 3
   },
   "file_extension": ".py",
   "mimetype": "text/x-python",
   "name": "python",
   "nbconvert_exporter": "python",
   "pygments_lexer": "ipython3",
   "version": "3.9.16"
  }
 },
 "nbformat": 4,
 "nbformat_minor": 5
}
