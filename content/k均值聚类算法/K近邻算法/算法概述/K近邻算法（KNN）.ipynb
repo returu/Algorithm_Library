{
 "cells": [
  {
   "cell_type": "code",
   "execution_count": 1,
   "id": "1b3be4bd",
   "metadata": {},
   "outputs": [],
   "source": [
    "import numpy as np\n",
    "import matplotlib.pyplot as plt\n",
    "from matplotlib.patches import Circle\n",
    "\n",
    "# 显示中文\n",
    "plt.rcParams['font.family'] = 'SimHei'\n",
    "plt.rcParams['axes.unicode_minus'] = False"
   ]
  },
  {
   "cell_type": "markdown",
   "id": "dfef41bb",
   "metadata": {},
   "source": [
    "### 1.生成数据集"
   ]
  },
  {
   "cell_type": "code",
   "execution_count": 2,
   "id": "6b85b0ba",
   "metadata": {},
   "outputs": [],
   "source": [
    "def creatDataset():\n",
    "    group = np.array([[0.5,3], [0.5,4], [0.5,6], [2,1.2], [2.5,4], [4,5], [3,6.5], [5,7], [4,3], [4.5,3.5], [7,6]])\n",
    "    labels = ['A', 'A', 'A', 'A', 'A', 'A', 'B', 'B', 'B', 'B', 'B']\n",
    "    \n",
    "    return group, labels"
   ]
  },
  {
   "cell_type": "code",
   "execution_count": 3,
   "id": "e4bafbd7",
   "metadata": {},
   "outputs": [],
   "source": [
    "# 样本数据\n",
    "group, labels = creatDataset()"
   ]
  },
  {
   "cell_type": "code",
   "execution_count": 4,
   "id": "d42bbcec",
   "metadata": {},
   "outputs": [
    {
     "data": {
      "text/plain": [
       "array([[0.5, 3. ],\n",
       "       [0.5, 4. ],\n",
       "       [0.5, 6. ],\n",
       "       [2. , 1.2],\n",
       "       [2.5, 4. ],\n",
       "       [4. , 5. ],\n",
       "       [3. , 6.5],\n",
       "       [5. , 7. ],\n",
       "       [4. , 3. ],\n",
       "       [4.5, 3.5],\n",
       "       [7. , 6. ]])"
      ]
     },
     "execution_count": 4,
     "metadata": {},
     "output_type": "execute_result"
    }
   ],
   "source": [
    "group"
   ]
  },
  {
   "cell_type": "code",
   "execution_count": 5,
   "id": "54dd294c",
   "metadata": {},
   "outputs": [
    {
     "data": {
      "text/plain": [
       "['A', 'A', 'A', 'A', 'A', 'A', 'B', 'B', 'B', 'B', 'B']"
      ]
     },
     "execution_count": 5,
     "metadata": {},
     "output_type": "execute_result"
    }
   ],
   "source": [
    "labels"
   ]
  },
  {
   "cell_type": "code",
   "execution_count": 6,
   "id": "d4873680",
   "metadata": {},
   "outputs": [],
   "source": [
    "# 测试样本数据\n",
    "pre_data = [3.5,3]"
   ]
  },
  {
   "cell_type": "code",
   "execution_count": 7,
   "id": "242f1f92",
   "metadata": {},
   "outputs": [
    {
     "data": {
      "image/png": "[encoded data removed]",
      "text/plain": [
       "<Figure size 640x480 with 1 Axes>"
      ]
     },
     "metadata": {},
     "output_type": "display_data"
    }
   ],
   "source": [
    "fig, ax = plt.subplots()\n",
    "\n",
    "for i in range(len(labels)):\n",
    "    if labels[i] == \"A\":\n",
    "        ax.scatter(group[i,0], group[i,1],marker=\"s\",color=\"blue\",s=50)\n",
    "    else:\n",
    "        ax.scatter(group[i,0], group[i,1],marker=\"^\",color=\"green\",s=50)\n",
    "ax.scatter(pre_data[0], pre_data[1],marker=\"o\",color=\"red\")\n",
    "\n",
    "ax.set_xlim(0,8)\n",
    "ax.set_ylim(0,8)\n",
    "ax.text(3, 3.2, \"测试样本\",fontsize=10, color='r')\n",
    "ax.text(4, 4.5, \"k=3\",fontsize=12)\n",
    "ax.text(4, 5.5, \"k=5\",fontsize=12)\n",
    "\n",
    "# 绘制不同k值下的示意圆\n",
    "cir1 = Circle(xy = (pre_data[0], pre_data[1]), radius=1.5, facecolor=\"none\" , edgecolor=\"k\")\n",
    "ax.add_patch(cir1)\n",
    "cir2 = Circle(xy = (pre_data[0], pre_data[1]), radius=2.5, facecolor=\"none\" , edgecolor=\"k\",linestyle=\"--\")\n",
    "ax.add_patch(cir2)\n",
    "plt.axis('scaled')\n",
    "plt.axis('equal')\n",
    "\n",
    "plt.show()"
   ]
  },
  {
   "cell_type": "markdown",
   "id": "6a4a1372",
   "metadata": {},
   "source": [
    "### 2.K-近邻算法实现"
   ]
  },
  {
   "cell_type": "code",
   "execution_count": 8,
   "id": "f8d53c70",
   "metadata": {},
   "outputs": [],
   "source": [
    "def classify(pre_data, sam_datas, sam_labels, k):\n",
    "    \"\"\"\n",
    "    K-近邻算法实现\n",
    "    Parameters，参数说明:\n",
    "    pre_data - 测试集数据\n",
    "    sam_datas - 训练集样本数据集\n",
    "    sam_labels - 训练集样本标签\n",
    "    k - kNN算法参数\n",
    "    \"\"\"\n",
    "    # 计算距离,这里为欧氏距离(相减后再平方再求和再开方)\n",
    "    diffMat = pre_data - sam_datas\n",
    "    sqDiffMat = diffMat ** 2\n",
    "    sqDistances = sqDiffMat.sum(axis=1)\n",
    "    distances = sqDistances ** 0.5\n",
    "    \n",
    "    # 返回distances中元素从小到大排序后的索引值\n",
    "    sortedDistIndicies = distances.argsort()\n",
    "    \n",
    "    classCount = {}\n",
    "    for i in range(k):\n",
    "        # 根据排序后的索引值 获取 对应的样本数据标签\n",
    "        vote_label = sam_labels[sortedDistIndicies[i]]\n",
    "        # 使用get方法，计算每个标签的数量\n",
    "        classCount[vote_label] = classCount.get(vote_label, 0) + 1\n",
    "    # 使用sorted函数的key参数实现字典的降序排列\n",
    "    sortedClassCount = sorted(classCount.items(), key=lambda x: x[1], reverse=True)\n",
    "    \n",
    "    # 返回次数最多的类别,即所要分类的类别\n",
    "    return sortedClassCount[0][0]"
   ]
  },
  {
   "cell_type": "markdown",
   "id": "7d282281",
   "metadata": {},
   "source": [
    "### 3.预测结果"
   ]
  },
  {
   "cell_type": "code",
   "execution_count": 9,
   "id": "af4f6f34",
   "metadata": {},
   "outputs": [
    {
     "data": {
      "text/plain": [
       "'B'"
      ]
     },
     "execution_count": 9,
     "metadata": {},
     "output_type": "execute_result"
    }
   ],
   "source": [
    "# k = 3 时预测结果\n",
    "classify(pre_data, group, labels, 3)"
   ]
  },
  {
   "cell_type": "code",
   "execution_count": 10,
   "id": "6d4e1492",
   "metadata": {},
   "outputs": [
    {
     "data": {
      "text/plain": [
       "'A'"
      ]
     },
     "execution_count": 10,
     "metadata": {},
     "output_type": "execute_result"
    }
   ],
   "source": [
    "# k = 5 时预测结果\n",
    "classify(pre_data, group, labels, 5)"
   ]
  },
  {
   "cell_type": "code",
   "execution_count": null,
   "id": "5d0e6202",
   "metadata": {},
   "outputs": [],
   "source": []
  },
  {
   "cell_type": "code",
   "execution_count": null,
   "id": "6a3e5ca5",
   "metadata": {},
   "outputs": [],
   "source": []
  },
  {
   "cell_type": "code",
   "execution_count": null,
   "id": "89ebe7c0",
   "metadata": {},
   "outputs": [],
   "source": []
  },
  {
   "cell_type": "code",
   "execution_count": null,
   "id": "e652d945",
   "metadata": {},
   "outputs": [],
   "source": []
  },
  {
   "cell_type": "code",
   "execution_count": null,
   "id": "ac19b1c7",
   "metadata": {},
   "outputs": [],
   "source": []
  },
  {
   "cell_type": "code",
   "execution_count": null,
   "id": "73a15a7a",
   "metadata": {},
   "outputs": [],
   "source": []
  },
  {
   "cell_type": "code",
   "execution_count": null,
   "id": "49276bcc",
   "metadata": {},
   "outputs": [],
   "source": []
  },
  {
   "cell_type": "code",
   "execution_count": null,
   "id": "97fe2cf3",
   "metadata": {},
   "outputs": [],
   "source": []
  },
  {
   "cell_type": "code",
   "execution_count": null,
   "id": "eb71ec63",
   "metadata": {},
   "outputs": [],
   "source": []
  },
  {
   "cell_type": "code",
   "execution_count": null,
   "id": "5e8d40a3",
   "metadata": {},
   "outputs": [],
   "source": []
  },
  {
   "cell_type": "code",
   "execution_count": null,
   "id": "4973fe66",
   "metadata": {},
   "outputs": [],
   "source": []
  },
  {
   "cell_type": "code",
   "execution_count": null,
   "id": "c5474255",
   "metadata": {},
   "outputs": [],
   "source": []
  },
  {
   "cell_type": "code",
   "execution_count": null,
   "id": "9cf3160b",
   "metadata": {},
   "outputs": [],
   "source": []
  }
 ],
 "metadata": {
  "kernelspec": {
   "display_name": "Python 3 (ipykernel)",
   "language": "python",
   "name": "python3"
  },
  "language_info": {
   "codemirror_mode": {
    "name": "ipython",
    "version": 3
   },
   "file_extension": ".py",
   "mimetype": "text/x-python",
   "name": "python",
   "nbconvert_exporter": "python",
   "pygments_lexer": "ipython3",
   "version": "3.9.16"
  }
 },
 "nbformat": 4,
 "nbformat_minor": 5
}
