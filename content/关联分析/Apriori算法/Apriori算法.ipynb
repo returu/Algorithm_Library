{
 "cells": [
  {
   "cell_type": "markdown",
   "id": "d95e74ec",
   "metadata": {},
   "source": [
    "### 生成一个小的示例数据集"
   ]
  },
  {
   "cell_type": "code",
   "execution_count": 1,
   "id": "752af030",
   "metadata": {},
   "outputs": [],
   "source": [
    "import numpy as np"
   ]
  },
  {
   "cell_type": "code",
   "execution_count": 2,
   "id": "425c0b4f",
   "metadata": {},
   "outputs": [],
   "source": [
    "def loadDataSet():\n",
    "    return [[1, 3, 4], [2, 3, 5], [1, 2, 3, 5], [2, 5]]"
   ]
  },
  {
   "cell_type": "code",
   "execution_count": 3,
   "id": "e6dc65e3",
   "metadata": {
    "scrolled": false
   },
   "outputs": [
    {
     "data": {
      "text/plain": [
       "[[1, 3, 4], [2, 3, 5], [1, 2, 3, 5], [2, 5]]"
      ]
     },
     "execution_count": 3,
     "metadata": {},
     "output_type": "execute_result"
    }
   ],
   "source": [
    "dataSet = loadDataSet()\n",
    "dataSet"
   ]
  },
  {
   "cell_type": "markdown",
   "id": "d2cb9484",
   "metadata": {},
   "source": [
    "### 定义功能函数"
   ]
  },
  {
   "cell_type": "code",
   "execution_count": 4,
   "id": "3fe485fe",
   "metadata": {},
   "outputs": [],
   "source": [
    "# creatC1()函数用来构建第一个候选项集的列表C1，即大小为1的所有候选项集的集合列表\n",
    "def creatC1(dataSet):\n",
    "    \"\"\"\n",
    "    dataSet - 数据集  \n",
    "    \"\"\"\n",
    "    C1 = []\n",
    "    for transaction in dataSet:\n",
    "        for item in transaction:\n",
    "            # 之所以使用列表，是因为Python不能创建只有一个整数的集合\n",
    "            if not [item] in C1:\n",
    "                C1.append([item])\n",
    "    # 排序\n",
    "    C1.sort()\n",
    "    # 将列表C1中的每个单元素列表映射到frozenset()，并返回frozenset的列表\n",
    "    return list(map(frozenset, C1))"
   ]
  },
  {
   "cell_type": "code",
   "execution_count": 5,
   "id": "0aa4e5df",
   "metadata": {},
   "outputs": [],
   "source": [
    "# 用于从C1生成L1，另外该函数会返回一个包含支持度值的字典以备后用\n",
    "def scanD(D,Ck,minSupport):\n",
    "    \"\"\"\n",
    "    D:数据集\n",
    "    Ck:候选项集列表\n",
    "    minSupport:最小支持度\n",
    "    \"\"\"\n",
    "    ssCnt = {}\n",
    "    # 遍历数据集中的所有记录以及C1中的所有候选集。\n",
    "    # 如果C1中的集合是记录的一部分，则增加字典中对应的计数值\n",
    "    # 其中，字典中的键为集合\n",
    "    for tid in D:\n",
    "        for can in Ck:\n",
    "            if can.issubset(tid):\n",
    "                if can not in ssCnt:\n",
    "                    ssCnt[can] =1\n",
    "                else:\n",
    "                    ssCnt[can] += 1\n",
    "    numItems = len(D)\n",
    "    retList = []\n",
    "    supportData = {}\n",
    "    # 循环遍历字典中的每个元素并且计算支持度\n",
    "    for key in ssCnt:\n",
    "        support = ssCnt[key] / numItems\n",
    "        # 如果支持度满足要求，这将字典元素添加到列表中\n",
    "        if support >= minSupport:\n",
    "            retList.insert(0,key)\n",
    "        supportData[key] = support\n",
    "    return retList , supportData"
   ]
  },
  {
   "cell_type": "markdown",
   "id": "016baf87",
   "metadata": {},
   "source": [
    "### 构建完整的Apriori算法"
   ]
  },
  {
   "cell_type": "code",
   "execution_count": 6,
   "id": "891665a5",
   "metadata": {},
   "outputs": [],
   "source": [
    "# aprioriGen()函数用于生成候选项集Ck。\n",
    "# 例如，该函数以[{0},{1},{2}])作为输入，会生成[{0, 1}, {0, 2}, {1, 2}] 。\n",
    "# 以[{0,1},{0,2},{0,3},{1,2},{1,3}]作为输入，会生成[{0, 1, 2}, {0, 1, 3}, {0, 2, 3}, {1, 2, 3}] 。\n",
    "def aprioriGen(Lk,k):\n",
    "    \"\"\"\n",
    "    Lk:频繁项集列表\n",
    "    k:项集元素个数\n",
    "    \"\"\"\n",
    "    retList = []\n",
    "    lenLk = len(Lk)\n",
    "    # 通过两个for循环，比较Lk中的元素与其他元素\n",
    "    for i in range(lenLk):\n",
    "        for j in range(i+1 , lenLk):\n",
    "            # 取列表中的两个集合进行比较，如果两个集合的前面 k-2 个元素相等，那么就将这两个集合合成一个大小为k的集合\n",
    "            L1 = list(Lk[i])[:k-2] \n",
    "            L2 = list(Lk[j])[:k-2]\n",
    "            L1.sort()\n",
    "            L2.sort()\n",
    "            if L1 == L2:\n",
    "                retList.append(Lk[i] | Lk[j])\n",
    "    return retList"
   ]
  },
  {
   "cell_type": "code",
   "execution_count": null,
   "id": "1191d2ae",
   "metadata": {},
   "outputs": [],
   "source": []
  },
  {
   "cell_type": "code",
   "execution_count": 7,
   "id": "849632ea",
   "metadata": {},
   "outputs": [],
   "source": [
    "# Apriori算法实现\n",
    "def apriori(dataSet,minSupport=0.5):\n",
    "    C1 = creatC1(dataSet)\n",
    "    # 将数据集转换为集合列表\n",
    "    D = list(map(set, dataSet))\n",
    "    # 从C1生成L1\n",
    "    L1, supportData = scanD(D, C1, minSupport)\n",
    "    \n",
    "    L = [L1]\n",
    "    k=2\n",
    "    while (len(L[k-2]) > 0):\n",
    "        Ck = aprioriGen(L[k-2] , k)\n",
    "        Lk, supK = scanD(D, Ck, minSupport)#scan DB to get Lk\n",
    "        supportData.update(supK)\n",
    "        L.append(Lk)\n",
    "        k += 1\n",
    "    return L, supportData"
   ]
  },
  {
   "cell_type": "markdown",
   "id": "a83c0008",
   "metadata": {},
   "source": [
    "### 从频繁项集中挖掘关联规则"
   ]
  },
  {
   "cell_type": "code",
   "execution_count": 8,
   "id": "2d2fb3d7",
   "metadata": {},
   "outputs": [],
   "source": [
    "# 生成包含可信度的规则列表\n",
    "def generateRules(L, supportData, minConf=0.7): \n",
    "    \"\"\"\n",
    "    L - 频繁项集列表\n",
    "    supportData - 包含那些频繁项集支持数据的字典\n",
    "    minConf - 最小可信度阈值\n",
    "    输出：\n",
    "    bigRuleList - 包含可信度的规则列表\n",
    "    \"\"\"\n",
    "    bigRuleList = []\n",
    "    # 因为无法从单元素项集中构建关联规则，因此需要从包含两个或更多元素的项集开始规则构建，因此索引从1开始\n",
    "    for i in range(1,len(L)):\n",
    "        for freqSet in L[i]:\n",
    "            # 将项集中的元素转换为集合列表格式，例如，frozenset({2, 3})→[frozenset({2}), frozenset({3})]\n",
    "            H1 = [frozenset([item]) for item in freqSet]\n",
    "            # 如果项集中元素多于两个，使用rulesFromConseq()函数从最初的项集中生成更多的关联规则\n",
    "            if (i>1):\n",
    "                rulesFromConseq(freqSet, H1, supportData, bigRuleList, minConf)\n",
    "            # 如果项集中只有两个元素，使用calcConf()函数计算可信度值\n",
    "            else:\n",
    "                calcConf(freqSet, H1, supportData, bigRuleList, minConf)\n",
    "                \n",
    "    return bigRuleList"
   ]
  },
  {
   "cell_type": "code",
   "execution_count": null,
   "id": "e7f9d377",
   "metadata": {},
   "outputs": [],
   "source": []
  },
  {
   "cell_type": "code",
   "execution_count": 9,
   "id": "e1712fab",
   "metadata": {},
   "outputs": [],
   "source": [
    "# 返回一个满足最小可信度要求的规则列表\n",
    "def calcConf(freqSet, H, supportData, brl, minConf=0.7):\n",
    "    \"\"\"\n",
    "    freqSet - 频繁项集\n",
    "    H - 出现在规则右部的元素列表\n",
    "    supportData - 包含那些频繁项集支持数据的字典\n",
    "    brl - 包含可信度的规则列表\n",
    "    minConf - 最小可信度阈值\n",
    "    输出：\n",
    "    prunedH - 复合置信度的关联规则列表\n",
    "    \"\"\"\n",
    "    prunedH = []\n",
    "    for conseq in H:\n",
    "        # 计算可信度值，例如，可信度（{3, 5}→{2}） = 支持度（frozenset({2, 3, 5})）/支持度（frozenset({3, 5})）\n",
    "        conf = supportData[freqSet]/supportData[freqSet-conseq]\n",
    "        if conf >= minConf: \n",
    "            # 如果某条规则满足最小可信度要求，则将其打印输出\n",
    "            print(freqSet-conseq,'-->',conseq,'可信度值:',conf)\n",
    "            brl.append((freqSet-conseq , conseq , conf))\n",
    "            prunedH.append(conseq)\n",
    "    return prunedH"
   ]
  },
  {
   "cell_type": "code",
   "execution_count": null,
   "id": "1a2a1e7e",
   "metadata": {},
   "outputs": [],
   "source": []
  },
  {
   "cell_type": "code",
   "execution_count": 10,
   "id": "ee070998",
   "metadata": {},
   "outputs": [],
   "source": [
    "# 从最初的项集中生成更多的关联规则\n",
    "def rulesFromConseq(freqSet, H, supportData, brl, minConf=0.7):\n",
    "    \"\"\"\n",
    "    freqSet - 频繁项集\n",
    "    H - 出现在规则右部的元素列表\n",
    "    supportData - 包含那些频繁项集支持数据的字典\n",
    "    brl - 包含可信度的规则列表\n",
    "    minConf - 最小可信度阈值\n",
    "    \"\"\"\n",
    "    # 计算频繁项集的大小\n",
    "    m = len(H[0])\n",
    "    if (len(freqSet) > (m + 1)): \n",
    "        # 生成H中元素的无重复组合，该结果存储在Hmp1中，这也是下一次迭代的H列表,即创建Hm+1条新候选项集\n",
    "        Hmp1 = aprioriGen(H, m+1)\n",
    "        # Hmp1包含所有可能的规则，使用calcConf()函数来测试他们的可信度，以确定规则是否满足要求\n",
    "        Hmp1 = calcConf(freqSet, Hmp1, supportData, brl, minConf)\n",
    "        # 如果不止一条规则满足要求，那么使用Hmp1迭代调用rulesFromConseq()函数来判断是否可以进一步组合这些规则\n",
    "        if (len(Hmp1) > 1):\n",
    "            rulesFromConseq(freqSet, Hmp1, supportData, brl, minConf)"
   ]
  },
  {
   "cell_type": "markdown",
   "id": "3d7c0540",
   "metadata": {},
   "source": [
    "### 算法应用"
   ]
  },
  {
   "cell_type": "code",
   "execution_count": 11,
   "id": "901fc2e6",
   "metadata": {},
   "outputs": [],
   "source": [
    "L, suppData = apriori(dataSet, minSupport=0.5)"
   ]
  },
  {
   "cell_type": "code",
   "execution_count": 12,
   "id": "5b39822e",
   "metadata": {},
   "outputs": [
    {
     "data": {
      "text/plain": [
       "[[frozenset({5}), frozenset({2}), frozenset({3}), frozenset({1})],\n",
       " [frozenset({2, 3}), frozenset({3, 5}), frozenset({2, 5}), frozenset({1, 3})],\n",
       " [frozenset({2, 3, 5})],\n",
       " []]"
      ]
     },
     "execution_count": 12,
     "metadata": {},
     "output_type": "execute_result"
    }
   ],
   "source": [
    "L"
   ]
  },
  {
   "cell_type": "code",
   "execution_count": 13,
   "id": "5dd76c11",
   "metadata": {},
   "outputs": [
    {
     "data": {
      "text/plain": [
       "{frozenset({1}): 0.5,\n",
       " frozenset({3}): 0.75,\n",
       " frozenset({4}): 0.25,\n",
       " frozenset({2}): 0.75,\n",
       " frozenset({5}): 0.75,\n",
       " frozenset({1, 3}): 0.5,\n",
       " frozenset({2, 5}): 0.75,\n",
       " frozenset({3, 5}): 0.5,\n",
       " frozenset({2, 3}): 0.5,\n",
       " frozenset({1, 5}): 0.25,\n",
       " frozenset({1, 2}): 0.25,\n",
       " frozenset({2, 3, 5}): 0.5}"
      ]
     },
     "execution_count": 13,
     "metadata": {},
     "output_type": "execute_result"
    }
   ],
   "source": [
    "suppData"
   ]
  },
  {
   "cell_type": "code",
   "execution_count": 14,
   "id": "fa6f6147",
   "metadata": {},
   "outputs": [
    {
     "name": "stdout",
     "output_type": "stream",
     "text": [
      "frozenset({5}) --> frozenset({2}) 可信度值: 1.0\n",
      "frozenset({2}) --> frozenset({5}) 可信度值: 1.0\n",
      "frozenset({1}) --> frozenset({3}) 可信度值: 1.0\n"
     ]
    },
    {
     "data": {
      "text/plain": [
       "[(frozenset({5}), frozenset({2}), 1.0),\n",
       " (frozenset({2}), frozenset({5}), 1.0),\n",
       " (frozenset({1}), frozenset({3}), 1.0)]"
      ]
     },
     "execution_count": 14,
     "metadata": {},
     "output_type": "execute_result"
    }
   ],
   "source": [
    "rules = generateRules(L, suppData, minConf=0.7)\n",
    "rules"
   ]
  },
  {
   "cell_type": "code",
   "execution_count": 15,
   "id": "13ee7cf9",
   "metadata": {},
   "outputs": [
    {
     "name": "stdout",
     "output_type": "stream",
     "text": [
      "frozenset({3}) --> frozenset({2}) 可信度值: 0.6666666666666666\n",
      "frozenset({2}) --> frozenset({3}) 可信度值: 0.6666666666666666\n",
      "frozenset({5}) --> frozenset({3}) 可信度值: 0.6666666666666666\n",
      "frozenset({3}) --> frozenset({5}) 可信度值: 0.6666666666666666\n",
      "frozenset({5}) --> frozenset({2}) 可信度值: 1.0\n",
      "frozenset({2}) --> frozenset({5}) 可信度值: 1.0\n",
      "frozenset({3}) --> frozenset({1}) 可信度值: 0.6666666666666666\n",
      "frozenset({1}) --> frozenset({3}) 可信度值: 1.0\n",
      "frozenset({5}) --> frozenset({2, 3}) 可信度值: 0.6666666666666666\n",
      "frozenset({3}) --> frozenset({2, 5}) 可信度值: 0.6666666666666666\n",
      "frozenset({2}) --> frozenset({3, 5}) 可信度值: 0.6666666666666666\n"
     ]
    },
    {
     "data": {
      "text/plain": [
       "[(frozenset({3}), frozenset({2}), 0.6666666666666666),\n",
       " (frozenset({2}), frozenset({3}), 0.6666666666666666),\n",
       " (frozenset({5}), frozenset({3}), 0.6666666666666666),\n",
       " (frozenset({3}), frozenset({5}), 0.6666666666666666),\n",
       " (frozenset({5}), frozenset({2}), 1.0),\n",
       " (frozenset({2}), frozenset({5}), 1.0),\n",
       " (frozenset({3}), frozenset({1}), 0.6666666666666666),\n",
       " (frozenset({1}), frozenset({3}), 1.0),\n",
       " (frozenset({5}), frozenset({2, 3}), 0.6666666666666666),\n",
       " (frozenset({3}), frozenset({2, 5}), 0.6666666666666666),\n",
       " (frozenset({2}), frozenset({3, 5}), 0.6666666666666666)]"
      ]
     },
     "execution_count": 15,
     "metadata": {},
     "output_type": "execute_result"
    }
   ],
   "source": [
    "rules = generateRules(L, suppData, minConf=0.5)\n",
    "rules"
   ]
  },
  {
   "cell_type": "code",
   "execution_count": null,
   "id": "6bcfe5d7",
   "metadata": {},
   "outputs": [],
   "source": []
  },
  {
   "cell_type": "code",
   "execution_count": null,
   "id": "69c67e1a",
   "metadata": {},
   "outputs": [],
   "source": []
  },
  {
   "cell_type": "code",
   "execution_count": null,
   "id": "16ca3427",
   "metadata": {},
   "outputs": [],
   "source": []
  },
  {
   "cell_type": "code",
   "execution_count": null,
   "id": "7f25ab03",
   "metadata": {},
   "outputs": [],
   "source": []
  },
  {
   "cell_type": "code",
   "execution_count": null,
   "id": "3d4ad18c",
   "metadata": {},
   "outputs": [],
   "source": []
  },
  {
   "cell_type": "code",
   "execution_count": null,
   "id": "8861002b",
   "metadata": {},
   "outputs": [],
   "source": []
  }
 ],
 "metadata": {
  "kernelspec": {
   "display_name": "Python 3 (ipykernel)",
   "language": "python",
   "name": "python3"
  },
  "language_info": {
   "codemirror_mode": {
    "name": "ipython",
    "version": 3
   },
   "file_extension": ".py",
   "mimetype": "text/x-python",
   "name": "python",
   "nbconvert_exporter": "python",
   "pygments_lexer": "ipython3",
   "version": "3.9.16"
  }
 },
 "nbformat": 4,
 "nbformat_minor": 5
}
